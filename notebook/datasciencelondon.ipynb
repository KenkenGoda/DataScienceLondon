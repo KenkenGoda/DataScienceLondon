{
 "cells": [
  {
   "cell_type": "code",
   "execution_count": 2,
   "metadata": {},
   "outputs": [],
   "source": [
    "import numpy as np\n",
    "import pandas as pd\n",
    "import matplotlib.pyplot as plt\n",
    "import seaborn as sns"
   ]
  },
  {
   "cell_type": "markdown",
   "metadata": {},
   "source": [
    "# データの取得"
   ]
  },
  {
   "cell_type": "code",
   "execution_count": 25,
   "metadata": {},
   "outputs": [],
   "source": [
    "train = pd.read_csv('datasciencelondon_train.csv')\n",
    "train_label = pd.read_csv('datasciencelondon_trainlabel.csv')\n",
    "test = pd.read_csv('datasciencelondon_test.csv')"
   ]
  },
  {
   "cell_type": "markdown",
   "metadata": {},
   "source": [
    "# 前処理"
   ]
  },
  {
   "cell_type": "code",
   "execution_count": 4,
   "metadata": {},
   "outputs": [],
   "source": [
    "#train,testのcolumnsの値を1行目にコピーし、追加分のtrain_labelを作成\n",
    "train1 = pd.DataFrame.from_dict(dict(zip(train.columns, list(map(float, train.columns)))), orient='index').T\n",
    "train_label1 = pd.DataFrame.from_dict(dict(zip(train_label.columns, list(map(int, train_label.columns)))), orient='index').T\n",
    "test1 = pd.DataFrame.from_dict(dict(zip(test.columns, list(map(float, test.columns)))), orient='index').T"
   ]
  },
  {
   "cell_type": "code",
   "execution_count": 30,
   "metadata": {},
   "outputs": [],
   "source": [
    "#train,train_label,testを更新\n",
    "train = pd.concat([train1, train], ignore_index=True)\n",
    "train_label = pd.concat([train_label1, train_label], ignore_index=True)\n",
    "test = pd.concat([test1, test], ignore_index=True)"
   ]
  },
  {
   "cell_type": "code",
   "execution_count": 31,
   "metadata": {},
   "outputs": [],
   "source": [
    "#train,train_label,testのindex,columnsを更新\n",
    "train.index = [n+1 for n in range(len(train.index))]\n",
    "train_label.index = [n+1 for n in range(len(train.index))]\n",
    "test.index = [n+1 for n in range(len(test.index))]\n",
    "train.columns = [n+1 for n in range(len(train.columns))]\n",
    "train_label.columns = ['label']\n",
    "test.columns = [n+1 for n in range(len(test.columns))]"
   ]
  },
  {
   "cell_type": "markdown",
   "metadata": {},
   "source": [
    "# 特徴量の作成"
   ]
  },
  {
   "cell_type": "code",
   "execution_count": 9,
   "metadata": {},
   "outputs": [],
   "source": [
    "X = train\n",
    "X_test = test"
   ]
  },
  {
   "cell_type": "markdown",
   "metadata": {},
   "source": [
    "# モデル学習"
   ]
  },
  {
   "cell_type": "code",
   "execution_count": 10,
   "metadata": {},
   "outputs": [],
   "source": [
    "from sklearn.model_selection import train_test_split\n",
    "from sklearn.linear_model import LinearRegression\n",
    "from sklearn.linear_model import Ridge\n",
    "from sklearn.linear_model import LogisticRegression\n",
    "from sklearn.metrics import mean_squared_error"
   ]
  },
  {
   "cell_type": "code",
   "execution_count": 11,
   "metadata": {},
   "outputs": [],
   "source": [
    "lin = LinearRegression()\n",
    "rid = Ridge()\n",
    "log = LogisticRegression()"
   ]
  },
  {
   "cell_type": "code",
   "execution_count": 12,
   "metadata": {},
   "outputs": [],
   "source": [
    "y = train_label"
   ]
  },
  {
   "cell_type": "code",
   "execution_count": 13,
   "metadata": {},
   "outputs": [
    {
     "name": "stderr",
     "output_type": "stream",
     "text": [
      "/usr/local/lib/python3.6/site-packages/sklearn/model_selection/_split.py:2010: FutureWarning: From version 0.21, test_size will always complement train_size unless both are specified.\n",
      "  FutureWarning)\n"
     ]
    }
   ],
   "source": [
    "X_train, X_val, y_train, y_val = train_test_split(X, y, train_size=0.99, random_state=1)"
   ]
  },
  {
   "cell_type": "code",
   "execution_count": 14,
   "metadata": {},
   "outputs": [
    {
     "name": "stderr",
     "output_type": "stream",
     "text": [
      "/usr/local/lib/python3.6/site-packages/scipy/linalg/basic.py:1018: RuntimeWarning: internal gelsd driver lwork query error, required iwork dimension not returned. This is likely the result of LAPACK bug 0038, fixed in LAPACK 3.2.2 (released July 21, 2010). Falling back to 'gelss' driver.\n",
      "  warnings.warn(mesg, RuntimeWarning)\n",
      "/usr/local/lib/python3.6/site-packages/sklearn/utils/validation.py:547: DataConversionWarning: A column-vector y was passed when a 1d array was expected. Please change the shape of y to (n_samples, ), for example using ravel().\n",
      "  y = column_or_1d(y, warn=True)\n"
     ]
    },
    {
     "data": {
      "text/plain": [
       "LogisticRegression(C=1.0, class_weight=None, dual=False, fit_intercept=True,\n",
       "          intercept_scaling=1, max_iter=100, multi_class='ovr', n_jobs=1,\n",
       "          penalty='l2', random_state=None, solver='liblinear', tol=0.0001,\n",
       "          verbose=0, warm_start=False)"
      ]
     },
     "execution_count": 14,
     "metadata": {},
     "output_type": "execute_result"
    }
   ],
   "source": [
    "lin.fit(X_train, y_train)\n",
    "rid.fit(X_train, y_train)\n",
    "log.fit(X_train, y_train)"
   ]
  },
  {
   "cell_type": "code",
   "execution_count": 15,
   "metadata": {},
   "outputs": [
    {
     "name": "stdout",
     "output_type": "stream",
     "text": [
      "Linear: 0.467102579555\n",
      "Ridge: 0.470651670325\n",
      "Logistic: 0.836363636364\n"
     ]
    }
   ],
   "source": [
    "print('Linear:', lin.score(X_train, y_train))\n",
    "print('Ridge:', rid.score(X_train, y_train))\n",
    "print('Logistic:', log.score(X_train, y_train))"
   ]
  },
  {
   "cell_type": "code",
   "execution_count": 16,
   "metadata": {},
   "outputs": [],
   "source": [
    "pre_val_lin = lin.predict(X_val)\n",
    "pre_val_rid = rid.predict(X_val)\n",
    "pre_val_log = log.predict(X_val)"
   ]
  },
  {
   "cell_type": "code",
   "execution_count": 17,
   "metadata": {},
   "outputs": [
    {
     "name": "stdout",
     "output_type": "stream",
     "text": [
      "Linear: 0.0970035667768\n",
      "Ridge: 0.0935431679955\n",
      "Logistic: 0.1\n"
     ]
    }
   ],
   "source": [
    "print('Linear:', mean_squared_error(y_val, pre_val_lin))\n",
    "print('Ridge:', mean_squared_error(y_val, pre_val_rid))\n",
    "print('Logistic:', mean_squared_error(y_val, pre_val_log))"
   ]
  },
  {
   "cell_type": "markdown",
   "metadata": {},
   "source": [
    "# データの可視化"
   ]
  },
  {
   "cell_type": "code",
   "execution_count": 18,
   "metadata": {},
   "outputs": [
    {
     "data": {
      "image/png": "[encoded data removed]",
      "text/plain": [
       "<matplotlib.figure.Figure at 0x1093f5c88>"
      ]
     },
     "metadata": {},
     "output_type": "display_data"
    }
   ],
   "source": [
    "coef = sorted(dict(zip(X_val.columns, rid.coef_[0])).items(), key=lambda x: -x[1])\n",
    "x_values = np.linspace(1, len(coef), len(coef))\n",
    "x_name = [coef_i[0] for coef_i in coef]\n",
    "y_values = [coef_i[1] for coef_i in coef]\n",
    "plt.figure(figsize=(10,10))\n",
    "plt.rcParams['font.size'] = 8\n",
    "plt.barh(x_values, y_values)\n",
    "plt.xlabel('weight')\n",
    "plt.yticks(x_values, x_name)\n",
    "#plt.ylim(0, )\n",
    "plt.show()"
   ]
  },
  {
   "cell_type": "code",
   "execution_count": 19,
   "metadata": {},
   "outputs": [
    {
     "data": {
      "image/png": "[encoded data removed]",
      "text/plain": [
       "<matplotlib.figure.Figure at 0x1093f50f0>"
      ]
     },
     "metadata": {},
     "output_type": "display_data"
    }
   ],
   "source": [
    "train_join = y.join(X)\n",
    "plt.figure(figsize=(13,10))\n",
    "plt.rcParams['font.size'] = 12\n",
    "sns.heatmap(abs(train_join.corr()).sort_values(by=['label'], ascending=False), cmap='Blues')\n",
    "plt.show()"
   ]
  },
  {
   "cell_type": "code",
   "execution_count": null,
   "metadata": {},
   "outputs": [],
   "source": []
  },
  {
   "cell_type": "code",
   "execution_count": null,
   "metadata": {},
   "outputs": [],
   "source": []
  }
 ],
 "metadata": {
  "kernelspec": {
   "display_name": "Python 3",
   "language": "python",
   "name": "python3"
  },
  "language_info": {
   "codemirror_mode": {
    "name": "ipython",
    "version": 3
   },
   "file_extension": ".py",
   "mimetype": "text/x-python",
   "name": "python",
   "nbconvert_exporter": "python",
   "pygments_lexer": "ipython3",
   "version": "3.6.2"
  }
 },
 "nbformat": 4,
 "nbformat_minor": 2
}
